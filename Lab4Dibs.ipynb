{
 "cells": [
  {
   "cell_type": "code",
   "execution_count": 11,
   "id": "416d5d75",
   "metadata": {},
   "outputs": [
    {
     "name": "stdout",
     "output_type": "stream",
     "text": [
      "Nodes: ['A', 'B', 'C', 'D']\n",
      "Edges thats are connected: [('A', 'B'), ('B', 'C'), ('C', 'D'), ('D', 'B')]\n",
      "The graph has a cycle.\n"
     ]
    }
   ],
   "source": [
    "class Graph:\n",
    "    def __init__(self):\n",
    "        self.adj_list = {}\n",
    "\n",
    "    def add_nodes(self, vertex):\n",
    "        if vertex not in self.adj_list:\n",
    "            self.adj_list[vertex] = []\n",
    "\n",
    "    def add_edge(self, vertex1, vertex2):\n",
    "        if vertex1 in self.adj_list:\n",
    "            self.adj_list[vertex1].append(vertex2)\n",
    "        else:\n",
    "            self.adj_list[vertex1] = [vertex2]\n",
    "\n",
    "    def get_nodes(self):\n",
    "        return list(self.adj_list.keys())\n",
    "\n",
    "    def get_edges(self):\n",
    "        edges = []\n",
    "        for vertex in self.adj_list:\n",
    "            for neighbor in self.adj_list[vertex]:\n",
    "                edges.append((vertex, neighbor))\n",
    "        return edges\n",
    "    #Cyle for undirected\n",
    "    def has_cycle_undirected(self):\n",
    "        visited = set()\n",
    "        for vertex in self.adj_list:\n",
    "            if vertex not in visited:\n",
    "                if self._has_cycle_undirected(vertex, visited, None):\n",
    "                    return True\n",
    "        return False\n",
    "\n",
    "    def _has_cycle_undirected(self, vertex, visited, parent):\n",
    "        visited.add(vertex)\n",
    "        for neighbor in self.adj_list[vertex]:\n",
    "            if neighbor not in visited:\n",
    "                if self._has_cycle_undirected(neighbor, visited, vertex):\n",
    "                    return True\n",
    "            elif neighbor != parent:\n",
    "                return True\n",
    "        return False\n",
    "# has Cycle Graph    \n",
    "g = Graph()\n",
    "g.add_nodes('A')\n",
    "g.add_nodes('B')\n",
    "g.add_nodes('C')\n",
    "g.add_nodes('D')\n",
    "g.add_edge('A', 'B')\n",
    "g.add_edge('B', 'C')\n",
    "g.add_edge('C', 'D')\n",
    "g.add_edge('D', 'B')\n",
    "#Print Nodes and Edge\n",
    "print(\"Nodes:\", g.get_nodes())\n",
    "print(\"Edges thats are connected:\", g.get_edges())\n",
    "# check for a cycle\n",
    "if g.has_cycle_undirected():\n",
    "    print(\"The graph has a cycle.\")\n",
    "else:\n",
    "    print(\"The graph does not have a cycle.\")"
   ]
  },
  {
   "cell_type": "code",
   "execution_count": 12,
   "id": "b4491c6d",
   "metadata": {},
   "outputs": [
    {
     "name": "stdout",
     "output_type": "stream",
     "text": [
      "Nodes: ['0', '1', '2', '3', '4', '5', '6']\n",
      "Edges thats are connected: [('0', '1'), ('0', '3'), ('0', '6'), ('1', '2'), ('1', '4'), ('4', '5')]\n",
      "The graph does not have a cycle.\n"
     ]
    }
   ],
   "source": [
    "#Does Not have cycle\n",
    "h=Graph()\n",
    "h.add_nodes('0')\n",
    "h.add_nodes('1')\n",
    "h.add_nodes('2')\n",
    "h.add_nodes('3')\n",
    "h.add_nodes('4')\n",
    "h.add_nodes('5')\n",
    "h.add_nodes('6')\n",
    "h.add_edge('0', '1')\n",
    "h.add_edge('0', '3')\n",
    "h.add_edge('0', '6')\n",
    "h.add_edge('1', '2')\n",
    "h.add_edge('1', '4')\n",
    "h.add_edge('4', '5')\n",
    "#Print Nodes and Edge\n",
    "print(\"Nodes:\", h.get_nodes())\n",
    "print(\"Edges thats are connected:\", h.get_edges())\n",
    "# check for a cycle\n",
    "if h.has_cycle_undirected():\n",
    "    print(\"The graph has a cycle.\")\n",
    "else:\n",
    "    print(\"The graph does not have a cycle.\")\n",
    "\n"
   ]
  },
  {
   "cell_type": "code",
   "execution_count": null,
   "id": "47820f32",
   "metadata": {},
   "outputs": [],
   "source": []
  }
 ],
 "metadata": {
  "kernelspec": {
   "display_name": "Python 3 (ipykernel)",
   "language": "python",
   "name": "python3"
  },
  "language_info": {
   "codemirror_mode": {
    "name": "ipython",
    "version": 3
   },
   "file_extension": ".py",
   "mimetype": "text/x-python",
   "name": "python",
   "nbconvert_exporter": "python",
   "pygments_lexer": "ipython3",
   "version": "3.9.7"
  }
 },
 "nbformat": 4,
 "nbformat_minor": 5
}
